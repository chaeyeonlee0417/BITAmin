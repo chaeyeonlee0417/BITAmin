{
  "nbformat": 4,
  "nbformat_minor": 0,
  "metadata": {
    "colab": {
      "provenance": [],
      "include_colab_link": true
    },
    "kernelspec": {
      "name": "python3",
      "display_name": "Python 3"
    },
    "language_info": {
      "name": "python"
    }
  },
  "cells": [
    {
      "cell_type": "markdown",
      "metadata": {
        "id": "view-in-github",
        "colab_type": "text"
      },
      "source": [
        "<a href=\"https://colab.research.google.com/github/chaeyeonlee0417/VITAmin/blob/main/%EB%B9%84%ED%83%80%EB%AF%BC_13_14%EA%B8%B0_13%EC%A3%BC%EC%B0%A8_%EB%B3%B5%EC%8A%B5%EA%B3%BC%EC%A0%9C_%EC%9D%B4%EC%B1%84%EC%97%B0.ipynb\" target=\"_parent\"><img src=\"https://colab.research.google.com/assets/colab-badge.svg\" alt=\"Open In Colab\"/></a>"
      ]
    },
    {
      "cell_type": "markdown",
      "source": [
        "## 2조"
      ],
      "metadata": {
        "id": "y5gHDYpsMR2i"
      }
    },
    {
      "cell_type": "markdown",
      "source": [
        "### Q1. 다차원 배열의 계산(6점)\n",
        "  - 발표자료 13p의 내용을 참고하여 활성화 함수가 ReLU이고, $h_1 = g(-0.6x_1 + 0.4x_2 - 40)$, $h_2 = g(0.7x_1 - 0.3x_2 - 30)$, $o = g(120h_1 + 80h_2 - 90)$ 일 때 $h_1, h_2, o$를 구하는 코드를 구현하세요."
      ],
      "metadata": {
        "id": "ith7oaXgY3tF"
      }
    },
    {
      "cell_type": "code",
      "source": [
        "import numpy as np\n",
        "\n",
        "# 변수 설정\n",
        "x1 = np.arange(-100, 100, 1)\n",
        "x2 = np.arange(-100, 100, 1)\n",
        "x1, x2 = np.meshgrid(x1, x2)\n",
        "\n",
        "# YOUR_CODE\n",
        "def relu(x):\n",
        "    return np.maximum(0, x)\n",
        "h1 = relu(-0.6 * x1 + 0.4 * x2 - 40)\n",
        "h2 = relu(0.7 * x1 - 0.3 * x2 - 30)\n",
        "o = relu(120 * h1 + 80 * h2 - 90)\n",
        "\n",
        "# 결과 출력\n",
        "print(\"h1:\", h1)\n",
        "print(\"h2:\", h2)\n",
        "print(\"o:\", o)"
      ],
      "metadata": {
        "colab": {
          "base_uri": "https://localhost:8080/"
        },
        "id": "Wsec5U-oX8vc",
        "outputId": "dbc9a397-43bd-4e36-8e71-26f849e118c5"
      },
      "execution_count": null,
      "outputs": [
        {
          "output_type": "stream",
          "name": "stdout",
          "text": [
            "h1: [[ 0.   0.   0.  ...  0.   0.   0. ]\n",
            " [ 0.   0.   0.  ...  0.   0.   0. ]\n",
            " [ 0.   0.   0.  ...  0.   0.   0. ]\n",
            " ...\n",
            " [58.8 58.2 57.6 ...  0.   0.   0. ]\n",
            " [59.2 58.6 58.  ...  0.   0.   0. ]\n",
            " [59.6 59.  58.4 ...  0.   0.   0. ]]\n",
            "h2: [[ 0.   0.   0.  ... 67.9 68.6 69.3]\n",
            " [ 0.   0.   0.  ... 67.6 68.3 69. ]\n",
            " [ 0.   0.   0.  ... 67.3 68.  68.7]\n",
            " ...\n",
            " [ 0.   0.   0.  ...  8.8  9.5 10.2]\n",
            " [ 0.   0.   0.  ...  8.5  9.2  9.9]\n",
            " [ 0.   0.   0.  ...  8.2  8.9  9.6]]\n",
            "o: [[   0.    0.    0. ... 5342. 5398. 5454.]\n",
            " [   0.    0.    0. ... 5318. 5374. 5430.]\n",
            " [   0.    0.    0. ... 5294. 5350. 5406.]\n",
            " ...\n",
            " [6966. 6894. 6822. ...  614.  670.  726.]\n",
            " [7014. 6942. 6870. ...  590.  646.  702.]\n",
            " [7062. 6990. 6918. ...  566.  622.  678.]]\n"
          ]
        }
      ]
    },
    {
      "cell_type": "markdown",
      "source": [
        "### Q2. MNIST 데이터셋을 활용한 신경망 모델 학습 (20점)"
      ],
      "metadata": {
        "id": "6BJTESoMb5ga"
      }
    },
    {
      "cell_type": "markdown",
      "source": [
        "2-1) 2점\n",
        "- torchvision 라이브러리를 사용하여 MNIST 데이터셋을 불러오세요."
      ],
      "metadata": {
        "id": "vtOksVbEiDQn"
      }
    },
    {
      "cell_type": "code",
      "source": [
        "import torchvision.datasets as datasets\n",
        "import torchvision.transforms as transforms\n",
        "\n",
        "# MNIST 데이터셋 다운로드 및 로드\n",
        "train_data = datasets.MNIST(root='./datasets/', train=True, transform=transforms.ToTensor(), download=True)\n",
        "test_data = datasets.MNIST(root='./datasets/', train=False, transform=transforms.ToTensor(), download=True)\n"
      ],
      "metadata": {
        "id": "Dq7BBERriSyf",
        "colab": {
          "base_uri": "https://localhost:8080/"
        },
        "outputId": "7084727a-1b67-404a-def3-20ac9d775904"
      },
      "execution_count": 3,
      "outputs": [
        {
          "output_type": "stream",
          "name": "stdout",
          "text": [
            "Downloading http://yann.lecun.com/exdb/mnist/train-images-idx3-ubyte.gz\n",
            "Failed to download (trying next):\n",
            "HTTP Error 403: Forbidden\n",
            "\n",
            "Downloading https://ossci-datasets.s3.amazonaws.com/mnist/train-images-idx3-ubyte.gz\n",
            "Downloading https://ossci-datasets.s3.amazonaws.com/mnist/train-images-idx3-ubyte.gz to ./datasets/MNIST/raw/train-images-idx3-ubyte.gz\n"
          ]
        },
        {
          "output_type": "stream",
          "name": "stderr",
          "text": [
            "100%|██████████| 9912422/9912422 [00:01<00:00, 5476181.39it/s] \n"
          ]
        },
        {
          "output_type": "stream",
          "name": "stdout",
          "text": [
            "Extracting ./datasets/MNIST/raw/train-images-idx3-ubyte.gz to ./datasets/MNIST/raw\n",
            "\n",
            "Downloading http://yann.lecun.com/exdb/mnist/train-labels-idx1-ubyte.gz\n",
            "Failed to download (trying next):\n",
            "HTTP Error 403: Forbidden\n",
            "\n",
            "Downloading https://ossci-datasets.s3.amazonaws.com/mnist/train-labels-idx1-ubyte.gz\n",
            "Downloading https://ossci-datasets.s3.amazonaws.com/mnist/train-labels-idx1-ubyte.gz to ./datasets/MNIST/raw/train-labels-idx1-ubyte.gz\n"
          ]
        },
        {
          "output_type": "stream",
          "name": "stderr",
          "text": [
            "100%|██████████| 28881/28881 [00:00<00:00, 159467.13it/s]\n"
          ]
        },
        {
          "output_type": "stream",
          "name": "stdout",
          "text": [
            "Extracting ./datasets/MNIST/raw/train-labels-idx1-ubyte.gz to ./datasets/MNIST/raw\n",
            "\n",
            "Downloading http://yann.lecun.com/exdb/mnist/t10k-images-idx3-ubyte.gz\n",
            "Failed to download (trying next):\n",
            "HTTP Error 403: Forbidden\n",
            "\n",
            "Downloading https://ossci-datasets.s3.amazonaws.com/mnist/t10k-images-idx3-ubyte.gz\n",
            "Downloading https://ossci-datasets.s3.amazonaws.com/mnist/t10k-images-idx3-ubyte.gz to ./datasets/MNIST/raw/t10k-images-idx3-ubyte.gz\n"
          ]
        },
        {
          "output_type": "stream",
          "name": "stderr",
          "text": [
            "100%|██████████| 1648877/1648877 [00:01<00:00, 1514217.45it/s]\n"
          ]
        },
        {
          "output_type": "stream",
          "name": "stdout",
          "text": [
            "Extracting ./datasets/MNIST/raw/t10k-images-idx3-ubyte.gz to ./datasets/MNIST/raw\n",
            "\n",
            "Downloading http://yann.lecun.com/exdb/mnist/t10k-labels-idx1-ubyte.gz\n",
            "Failed to download (trying next):\n",
            "HTTP Error 403: Forbidden\n",
            "\n",
            "Downloading https://ossci-datasets.s3.amazonaws.com/mnist/t10k-labels-idx1-ubyte.gz\n",
            "Downloading https://ossci-datasets.s3.amazonaws.com/mnist/t10k-labels-idx1-ubyte.gz to ./datasets/MNIST/raw/t10k-labels-idx1-ubyte.gz\n"
          ]
        },
        {
          "output_type": "stream",
          "name": "stderr",
          "text": [
            "100%|██████████| 4542/4542 [00:00<00:00, 2858293.89it/s]"
          ]
        },
        {
          "output_type": "stream",
          "name": "stdout",
          "text": [
            "Extracting ./datasets/MNIST/raw/t10k-labels-idx1-ubyte.gz to ./datasets/MNIST/raw\n",
            "\n"
          ]
        },
        {
          "output_type": "stream",
          "name": "stderr",
          "text": [
            "\n"
          ]
        }
      ]
    },
    {
      "cell_type": "markdown",
      "source": [
        "2-2) 2점\n",
        "- torch.utils.data.DataLoader를 사용하여 데이터 로더를 생성하세요. 배치 크기는 128로 설정하세요."
      ],
      "metadata": {
        "id": "qh3Ko2RSif6f"
      }
    },
    {
      "cell_type": "code",
      "source": [
        "from torch.utils.data import DataLoader\n",
        "\n",
        "# 데이터 로더 생성\n",
        "train_loader = DataLoader(dataset=train_data, batch_size=128, shuffle=True, num_workers=4)\n",
        "test_loader = DataLoader(dataset=test_data, batch_size=128, shuffle=False, num_workers=4)\n"
      ],
      "metadata": {
        "colab": {
          "base_uri": "https://localhost:8080/"
        },
        "id": "MIaf6uCBiT88",
        "outputId": "311c8962-898d-4f70-bafa-1265d1e33123"
      },
      "execution_count": 4,
      "outputs": [
        {
          "output_type": "stream",
          "name": "stderr",
          "text": [
            "/usr/local/lib/python3.10/dist-packages/torch/utils/data/dataloader.py:558: UserWarning: This DataLoader will create 4 worker processes in total. Our suggested max number of worker in current system is 2, which is smaller than what this DataLoader is going to create. Please be aware that excessive worker creation might get DataLoader running slow or even freeze, lower the worker number to avoid potential slowness/freeze if necessary.\n",
            "  warnings.warn(_create_warning_msg(\n"
          ]
        }
      ]
    },
    {
      "cell_type": "markdown",
      "source": [
        "2-3) 5점\n",
        "- MNIST 데이터를 위한 간단한 신경망 모델을 구현하세요."
      ],
      "metadata": {
        "id": "3VRff6ctipCY"
      }
    },
    {
      "cell_type": "code",
      "source": [
        "import torch.nn as nn\n",
        "import torch.nn.functional as F\n",
        "\n",
        "# 신경망 모델 정의\n",
        "class MNISTModel(nn.Module):\n",
        "    def __init__(self):\n",
        "        super(MNISTModel, self).__init__()\n",
        "        self.fc1 = nn.Linear(28*28, 128)\n",
        "        self.fc2 = nn.Linear(128, 64)\n",
        "        self.fc3 = nn.Linear(64, 10)\n",
        "\n",
        "    def forward(self, x):\n",
        "        x = x.view(-1, 28*28)  # Flatten the input tensor\n",
        "        x = F.relu(self.fc1(x))  # 첫 번째 완전 연결층에 ReLU 활성화 함수 적용\n",
        "        x = F.relu(self.fc2(x))  # 두 번째 완전 연결층에 ReLU 활성화 함수 적용\n",
        "        x = F.log_softmax(self.fc3(x), dim=1)  # 출력층에 로그 소프트맥스 활성화 함수 적용\n",
        "        return x\n",
        "\n",
        "model = MNISTModel()"
      ],
      "metadata": {
        "id": "nEDl23_xiwL8"
      },
      "execution_count": 5,
      "outputs": []
    },
    {
      "cell_type": "markdown",
      "source": [
        "2-4) 3점\n",
        "- 손실 함수와 최적손실 함수와 최적화 기법을 설정하세요."
      ],
      "metadata": {
        "id": "3yImKQnoizea"
      }
    },
    {
      "cell_type": "code",
      "source": [
        "import torch.optim as optim\n",
        "\n",
        "# 손실 함수와 최적화 기법 설정\n",
        "criterion = nn.CrossEntropyLoss()\n",
        "optimizer = optim.Adam(model.parameters(), lr=0.001)"
      ],
      "metadata": {
        "id": "MZlZDjVUi9nd"
      },
      "execution_count": 6,
      "outputs": []
    },
    {
      "cell_type": "markdown",
      "source": [
        "2-5) 4점\n",
        "- 에포크 당 손실을 출력하는 모델 학습 루프를 구성하세요."
      ],
      "metadata": {
        "id": "-1n3zYqOjP_X"
      }
    },
    {
      "cell_type": "code",
      "source": [
        "import torch\n",
        "\n",
        "# 모델 학습 루프\n",
        "num_epochs = 5\n",
        "\n",
        "# CUDA가 가능한지 확인 후, 가능한 경우 GPU 사용\n",
        "device = torch.device('cuda' if torch.cuda.is_available() else 'cpu')\n",
        "model.to(device)\n",
        "\n",
        "for epoch in range(num_epochs):\n",
        "    model.train()\n",
        "    running_loss = 0.0\n",
        "\n",
        "    for images, labels in train_loader:\n",
        "        # 입력 데이터와 레이블을 선택한 장치로 이동\n",
        "        images, labels = images.to(device), labels.to(device)\n",
        "\n",
        "        # 기울기 초기화\n",
        "        optimizer.zero_grad()\n",
        "\n",
        "        # 순전파\n",
        "        outputs = model(images)\n",
        "        loss = criterion(outputs, labels)\n",
        "\n",
        "        # 역전파 및 최적화\n",
        "        loss.backward()\n",
        "        optimizer.step()\n",
        "\n",
        "        # 손실 누적\n",
        "        running_loss += loss.item()\n",
        "\n",
        "    print(f\"Epoch [{epoch+1}/{num_epochs}], Loss: {running_loss/len(train_loader)}\")\n"
      ],
      "metadata": {
        "colab": {
          "base_uri": "https://localhost:8080/"
        },
        "id": "stK4cdzSuN9z",
        "outputId": "28abe1ae-3287-45b7-f71f-0d2763ca75ca"
      },
      "execution_count": 7,
      "outputs": [
        {
          "output_type": "stream",
          "name": "stdout",
          "text": [
            "Epoch [1/5], Loss: 0.42170305647003625\n",
            "Epoch [2/5], Loss: 0.17397060539962642\n",
            "Epoch [3/5], Loss: 0.12291910032680167\n",
            "Epoch [4/5], Loss: 0.09322864928447616\n",
            "Epoch [5/5], Loss: 0.07559960178617857\n"
          ]
        }
      ]
    },
    {
      "cell_type": "markdown",
      "source": [
        "2-6) 4점\n",
        "- 테스트 데이터셋을 사용하여 모델의 성능을 평가하세요. 정확도를 출력하세요."
      ],
      "metadata": {
        "id": "GHHt8g2FjIsb"
      }
    },
    {
      "cell_type": "code",
      "source": [
        "# 모델 평가\n",
        "model.eval()  # 모델을 평가 모드로 전환\n",
        "correct = 0\n",
        "total = 0\n",
        "\n",
        "with torch.no_grad():  # 평가 시에는 기울기를 계산하지 않음\n",
        "    for images, labels in test_loader:\n",
        "        images, labels = images.to(device), labels.to(device)\n",
        "        outputs = model(images)\n",
        "        _, predicted = torch.max(outputs.data, 1)\n",
        "        total += labels.size(0)\n",
        "        correct += (predicted == labels).sum().item()\n",
        "\n",
        "accuracy = 100 * correct / total\n",
        "print(f'Test Accuracy: {accuracy:.2f}%')"
      ],
      "metadata": {
        "colab": {
          "base_uri": "https://localhost:8080/"
        },
        "id": "EeYFBQ4FjGdE",
        "outputId": "15d0e8f0-8ee3-436e-f592-90a8eb4847eb"
      },
      "execution_count": 8,
      "outputs": [
        {
          "output_type": "stream",
          "name": "stdout",
          "text": [
            "Test Accuracy: 96.75%\n"
          ]
        }
      ]
    },
    {
      "cell_type": "markdown",
      "source": [
        "### Q3. CIFAR-10 데이터셋을 활용한 신경망 모델 학습 (24점)"
      ],
      "metadata": {
        "id": "em44PIcTkZxx"
      }
    },
    {
      "cell_type": "markdown",
      "source": [
        "3-1) 2점\n",
        "- torchvision 라이브러리를 사용하여 CIFAR-10 데이터셋을 불러오세요."
      ],
      "metadata": {
        "id": "0lfn-R-5kZxx"
      }
    },
    {
      "cell_type": "code",
      "source": [
        "from torchvision.datasets import CIFAR10\n",
        "import torchvision.transforms as transforms\n",
        "\n",
        "# CIFAR-10 데이터셋 다운로드 및 로드\n",
        "train_data = CIFAR10(root='./datasets/', train=True, transform=transforms.ToTensor(), download=True)\n",
        "test_data = CIFAR10(root='./datasets/', train=False, transform=transforms.ToTensor(), download=True)"
      ],
      "metadata": {
        "colab": {
          "base_uri": "https://localhost:8080/"
        },
        "outputId": "0288cdd8-e1c2-4b2d-c5f6-4f0c820f1cf5",
        "id": "YyXDrl37kZxx"
      },
      "execution_count": 9,
      "outputs": [
        {
          "output_type": "stream",
          "name": "stdout",
          "text": [
            "Downloading https://www.cs.toronto.edu/~kriz/cifar-10-python.tar.gz to ./datasets/cifar-10-python.tar.gz\n"
          ]
        },
        {
          "output_type": "stream",
          "name": "stderr",
          "text": [
            "100%|██████████| 170498071/170498071 [00:11<00:00, 15465717.98it/s]\n"
          ]
        },
        {
          "output_type": "stream",
          "name": "stdout",
          "text": [
            "Extracting ./datasets/cifar-10-python.tar.gz to ./datasets/\n",
            "Files already downloaded and verified\n"
          ]
        }
      ]
    },
    {
      "cell_type": "markdown",
      "source": [
        "3-2) 2점\n",
        "- torch.utils.data.DataLoader를 사용하여 데이터 로더를 생성하세요. 배치 크기는 64로 설정하세요."
      ],
      "metadata": {
        "id": "AtQ-QYh1kZxx"
      }
    },
    {
      "cell_type": "code",
      "source": [
        "from torch.utils.data import DataLoader\n",
        "\n",
        "# 데이터 로더 생성\n",
        "train_loader = DataLoader(dataset=train_data, batch_size=64, shuffle=True, num_workers=4)\n",
        "test_loader = DataLoader(dataset=test_data, batch_size=64, shuffle=False, num_workers=4)"
      ],
      "metadata": {
        "id": "pEODl3URkZxx"
      },
      "execution_count": 10,
      "outputs": []
    },
    {
      "cell_type": "markdown",
      "source": [
        "3-3) 5점\n",
        "- CNN 모델 코드의 빈칸을 채워 실행하세요."
      ],
      "metadata": {
        "id": "kQWNFVgIkZxx"
      }
    },
    {
      "cell_type": "code",
      "source": [
        "import torch.nn as nn\n",
        "import torch.nn.functional as F\n",
        "\n",
        "# CNN 모델 정의\n",
        "class CNNModel(nn.Module):\n",
        "    def __init__(self):\n",
        "        super(CNNModel, self).__init__()\n",
        "        # 첫 번째 합성곱 층: 입력 채널 3, 출력 채널 32, 커널 크기 3x3\n",
        "        self.conv1 = nn.Conv2d(in_channels=3, out_channels=32, kernel_size=3, padding=1)\n",
        "        # 두 번째 합성곱 층: 입력 채널 32, 출력 채널 64, 커널 크기 3x3\n",
        "        self.conv2 = nn.Conv2d(in_channels=32, out_channels=64, kernel_size=3, padding=1)\n",
        "        # 첫 번째 완전 연결층: 입력 노드 수 64*8*8, 출력 노드 수 128\n",
        "        self.fc1 = nn.Linear(in_features=64*8*8, out_features=128)\n",
        "        # 두 번째 완전 연결층: 입력 노드 수 128, 출력 노드 수 10 (클래스 수)\n",
        "        self.fc2 = nn.Linear(in_features=128, out_features=10)\n",
        "\n",
        "    def forward(self, x):\n",
        "        # 첫 번째 합성곱 층 + ReLU + 최대 풀링\n",
        "        x = F.relu(self.conv1(x))\n",
        "        x = F.max_pool2d(x, 2, 2)\n",
        "        # 두 번째 합성곱 층 + ReLU + 최대 풀링\n",
        "        x = F.relu(self.conv2(x))\n",
        "        x = F.max_pool2d(x, 2, 2)\n",
        "        # 텐서를 1차원으로 펼침\n",
        "        x = x.view(-1, 64*8*8)\n",
        "        # 첫 번째 완전 연결층 + ReLU\n",
        "        x = F.relu(self.fc1(x))\n",
        "        # 두 번째 완전 연결층 (출력층)\n",
        "        x = self.fc2(x)\n",
        "        return x\n",
        "\n",
        "# 모델 초기화\n",
        "cnn_model = CNNModel()"
      ],
      "metadata": {
        "id": "mvQYwy-XkZxx"
      },
      "execution_count": 14,
      "outputs": []
    },
    {
      "cell_type": "markdown",
      "source": [
        "3-4) 5점\n",
        "- CNN 모델 학습 및 평가 코드의 빈칸을 채워 실행하세요."
      ],
      "metadata": {
        "id": "cVbBZGzBkZxx"
      }
    },
    {
      "cell_type": "code",
      "source": [
        "import torch.optim as optim\n",
        "\n",
        "# 손실 함수와 최적화 기법 설정\n",
        "criterion = nn.CrossEntropyLoss()\n",
        "optimizer = optim.Adam(cnn_model.parameters(), lr=0.001)\n",
        "\n",
        "# CUDA가 가능한지 확인 후, 가능한 경우 GPU 사용\n",
        "device = torch.device('cuda' if torch.cuda.is_available() else 'cpu')\n",
        "cnn_model.to(device)\n",
        "\n",
        "# 모델 학습\n",
        "num_epochs = 5\n",
        "for epoch in range(num_epochs):\n",
        "    cnn_model.train()\n",
        "    running_loss = 0.0\n",
        "    for images, labels in train_loader:\n",
        "        images, labels = images.to(device), labels.to(device)\n",
        "        optimizer.zero_grad()\n",
        "        outputs = cnn_model(images)\n",
        "        loss = criterion(outputs, labels)\n",
        "        loss.backward()\n",
        "        optimizer.step()\n",
        "        running_loss += loss.item()\n",
        "    print(f\"Epoch {epoch+1}, Loss: {running_loss/len(train_loader)}\")\n",
        "\n",
        "# 모델 평가\n",
        "cnn_model.eval()\n",
        "correct = 0\n",
        "total = 0\n",
        "with torch.no_grad():\n",
        "    for images, labels in test_loader:\n",
        "        images, labels = images.to(device), labels.to(device)\n",
        "        outputs = cnn_model(images)\n",
        "        _, predicted = torch.max(outputs.data, 1)\n",
        "        total += labels.size(0)\n",
        "        correct += (predicted == labels).sum().item()\n",
        "\n",
        "accuracy = 100 * correct / total\n",
        "print(f'Test Accuracy: {accuracy:.2f}%')"
      ],
      "metadata": {
        "colab": {
          "base_uri": "https://localhost:8080/"
        },
        "outputId": "bd2d7b52-a756-45d0-d5af-084590dc463a",
        "id": "afeaorx3kZxx"
      },
      "execution_count": 15,
      "outputs": [
        {
          "output_type": "stream",
          "name": "stdout",
          "text": [
            "Epoch 1, Loss: 1.4767164249554314\n",
            "Epoch 2, Loss: 1.1253481619345866\n",
            "Epoch 3, Loss: 0.9750216396720818\n",
            "Epoch 4, Loss: 0.8702373854492021\n",
            "Epoch 5, Loss: 0.7896781018399217\n",
            "Test Accuracy: 68.97%\n"
          ]
        }
      ]
    },
    {
      "cell_type": "markdown",
      "source": [
        "3-5) 5점\n",
        "- RNN 모델 코드의 빈칸을 채워 실행하세요."
      ],
      "metadata": {
        "id": "AGLNk_Q7kZxx"
      }
    },
    {
      "cell_type": "code",
      "source": [
        "import torch\n",
        "import torch.nn as nn\n",
        "import torch.nn.functional as F\n",
        "\n",
        "class RNNModel(nn.Module):\n",
        "    def __init__(self):\n",
        "        super(RNNModel, self).__init__()\n",
        "        # RNN 층: 입력 차원 32*3 (이미지의 행 크기), 은닉 상태 차원 128\n",
        "        self.rnn = nn.RNN(input_size=32*3, hidden_size=128, batch_first=True)\n",
        "        # 완전 연결층: 입력 노드 수 128, 출력 노드 수 10 (클래스 수)\n",
        "        self.fc = nn.Linear(in_features=128, out_features=10)\n",
        "\n",
        "    def forward(self, x):\n",
        "        # 이미지 데이터를 (batch_size, channels, height, width)에서 (batch_size, height, width, channels)로 변환\n",
        "        x = x.permute(0, 2, 3, 1)\n",
        "        # 이미지를 1D 시퀀스로 변환: (batch_size, height, width, channels) -> (batch_size, height, width*channels)\n",
        "        x = x.reshape(x.size(0), 32, -1)\n",
        "        # RNN 연산\n",
        "        out, _ = self.rnn(x)\n",
        "        # 마지막 시간 단계의 출력을 완전 연결층에 통과\n",
        "        out = self.fc(out[:, -1, :])\n",
        "        return out\n",
        "\n",
        "# 모델 초기화\n",
        "rnn_model = RNNModel()"
      ],
      "metadata": {
        "id": "rgqvJpqSkZxx"
      },
      "execution_count": 16,
      "outputs": []
    },
    {
      "cell_type": "markdown",
      "source": [
        "3-6) 5점\n",
        "- RNN 모델 학습 및 평가 코드의 빈칸을 채워 실행하세요."
      ],
      "metadata": {
        "id": "O9oGKKFWkZxx"
      }
    },
    {
      "cell_type": "code",
      "source": [
        "import torch.optim as optim\n",
        "\n",
        "# 손실 함수와 최적화 기법 설정\n",
        "criterion = nn.CrossEntropyLoss()\n",
        "optimizer = optim.Adam(rnn_model.parameters(), lr=0.001)\n",
        "\n",
        "# CUDA가 가능한지 확인 후, 가능한 경우 GPU 사용\n",
        "device = torch.device('cuda' if torch.cuda.is_available() else 'cpu')\n",
        "rnn_model.to(device)\n",
        "\n",
        "# 모델 학습\n",
        "num_epochs = 5\n",
        "for epoch in range(num_epochs):\n",
        "    rnn_model.train()\n",
        "    running_loss = 0.0\n",
        "    for images, labels in train_loader:\n",
        "        images, labels = images.to(device), labels.to(device)\n",
        "        optimizer.zero_grad()\n",
        "        outputs = rnn_model(images)\n",
        "        loss = criterion(outputs, labels)\n",
        "        loss.backward()\n",
        "        optimizer.step()\n",
        "        running_loss += loss.item()\n",
        "    print(f\"Epoch {epoch+1}, Loss: {running_loss/len(train_loader)}\")\n",
        "\n",
        "# 모델 평가\n",
        "rnn_model.eval()\n",
        "correct = 0\n",
        "total = 0\n",
        "with torch.no_grad():\n",
        "    for images, labels in test_loader:\n",
        "        images, labels = images.to(device), labels.to(device)\n",
        "        outputs = rnn_model(images)\n",
        "        _, predicted = torch.max(outputs.data, 1)\n",
        "        total += labels.size(0)\n",
        "        correct += (predicted == labels).sum().item()\n",
        "\n",
        "accuracy = 100 * correct / total\n",
        "print(f'Test Accuracy: {accuracy:.2f}%')"
      ],
      "metadata": {
        "colab": {
          "base_uri": "https://localhost:8080/"
        },
        "outputId": "daa3d814-5c33-4c2c-be40-1d1551718c38",
        "id": "CwjKcIrakZxy"
      },
      "execution_count": 17,
      "outputs": [
        {
          "output_type": "stream",
          "name": "stdout",
          "text": [
            "Epoch 1, Loss: 2.0876841900293783\n",
            "Epoch 2, Loss: 1.9923619214835984\n",
            "Epoch 3, Loss: 1.916878944620147\n",
            "Epoch 4, Loss: 1.8405009656001234\n",
            "Epoch 5, Loss: 1.801128940356662\n",
            "Test Accuracy: 33.97%\n"
          ]
        }
      ]
    },
    {
      "cell_type": "markdown",
      "metadata": {
        "id": "HCfiqxZ1M7aK"
      },
      "source": [
        "## 3조. 손실함수, 수치미분(편미분), 경사하강법 - 총 50점"
      ]
    },
    {
      "cell_type": "markdown",
      "metadata": {
        "id": "sknOI4ZhITjS"
      },
      "source": [
        "### 1. 손실함수와 수치미분(편미분)\n"
      ]
    },
    {
      "cell_type": "markdown",
      "metadata": {
        "id": "SrJG4Bo6QuHT"
      },
      "source": [
        "Diabetes 데이터셋을 로드하고, 데이터셋의 첫 번째 특징('age')을 사용하여 목표 변수('target')를 예측하는 단순 선형 회귀 모델을 학습하세요."
      ]
    },
    {
      "cell_type": "code",
      "execution_count": 18,
      "metadata": {
        "id": "qe-Lu4gsQdpv"
      },
      "outputs": [],
      "source": [
        "#문제가 아닙니다.\n",
        "from sklearn.datasets import load_diabetes\n",
        "from sklearn.linear_model import LinearRegression\n",
        "from sklearn.metrics import mean_squared_error\n",
        "from sklearn.metrics import mean_absolute_error\n",
        "import numpy as np\n",
        "\n",
        "# 1. 데이터셋 로드\n",
        "diabetes = load_diabetes()\n",
        "X = diabetes.data[:, np.newaxis, 0]  # 'age' 특성 선택\n",
        "y = diabetes.target\n",
        "\n",
        "# 2. 단순 선형 회귀 모델 학습\n",
        "model = LinearRegression()\n",
        "model.fit(X, y)\n",
        "y_pred = model.predict(X)"
      ]
    },
    {
      "cell_type": "markdown",
      "metadata": {
        "id": "J31Of0vkPndt"
      },
      "source": [
        "1.1) 평균 제곱 오차(MSE)를 계산하는 코드를 완성하시오.(5점)"
      ]
    },
    {
      "cell_type": "code",
      "execution_count": 22,
      "metadata": {
        "colab": {
          "base_uri": "https://localhost:8080/"
        },
        "id": "xWW_APYaPndt",
        "outputId": "ad298d9e-144e-466b-8469-6de9f6b9b92b"
      },
      "outputs": [
        {
          "output_type": "stream",
          "name": "stdout",
          "text": [
            "MSE: 0.13\n",
            "MAE: 0.30\n"
          ]
        }
      ],
      "source": [
        "# 3. 평균 제곱 오차(MSE) 계산\n",
        "mse = mean_squared_error(y, y_pred)\n",
        "# 3. 평균 절대 오차(MAE) 계산\n",
        "mae = mean_absolute_error(y, y_pred)\n",
        "\n",
        "print(f\"MSE: {mse:.2f}\")\n",
        "print(f\"MAE: {mae:.2f}\")"
      ]
    },
    {
      "cell_type": "markdown",
      "metadata": {
        "id": "IcRC1W0yOZNr"
      },
      "source": [
        "1.2) 평균 절대 오차(MAE)와 평균 제곱 오차(MSE)의 정의와 각 손실함수의 특징을 설명하시오.(5점)"
      ]
    },
    {
      "cell_type": "markdown",
      "metadata": {
        "id": "u9eVWYfzSPVB"
      },
      "source": [
        "평균 제곱 오차(MSE) :  MAE는 예측 값과 실제 값 사이의 절대 오차의 평균을 계산하는 손실 함수입니다.\n",
        "*   특징\n",
        "1.   선형성: MAE는 절대 오차의 평균을 취하기 때문에 각 오차의 기여가 동일합니다. 즉, 큰 오차가 있어도 이 값은 그 오차의 절대값으로 직접 반영됩니다.\n",
        "2.   민감성: MAE는 이상치(outlier)에 덜 민감합니다. 큰 오차가 발생해도, 그 영향은 단순히 그 오차의 크기로 제한됩니다.\n",
        "3.   해석 용이성: MAE는 실제 값과 예측 값 간의 평균적인 차이를 그대로 나타내므로, 직관적으로 해석하기 쉽습니다.\n",
        "\n"
      ]
    },
    {
      "cell_type": "markdown",
      "metadata": {
        "id": "BByrK3ESSOIX"
      },
      "source": [
        "평균 절대 오차(MAE) : MSE는 예측 값과 실제 값 사이의 제곱 오차의 평균을 계산하는 손실 함수입니다.\n",
        "\n",
        "*   특징\n",
        "\n",
        "\n",
        "1.   제곱 오차: MSE는 오차를 제곱하여 평균을 취하기 때문에 큰 오차에 대해 더 큰 페널티를 부과합니다. 이는 모델이 큰 오차를 줄이는데 집중하게 만듭니다.\n",
        "2.   MSE는 이상치(outlier)에 매우 민감합니다. 큰 오차가 발생하면 제곱으로 인해 이 값은 더 크게 반영되어 전체 MSE 값에 큰 영향을 줍니다.\n",
        "3.   MSE는 오차의 제곱 평균을 나타내기 때문에, 실제 값과 예측 값 간의 차이를 직관적으로 이해하기 어렵습니다. 그러나 미분 가능성이 좋고, 수학적으로 다루기 쉬워 많은 기계 학습 알고리즘에서 사용됩니다.\n",
        "\n",
        "\n"
      ]
    },
    {
      "cell_type": "markdown",
      "source": [
        "특징 비교: MAE는 절대 오차를 사용하여 이상치에 덜 민감하지만, MSE는 제곱 오차를 사용하여 큰 오차에 더 큰 페널티를 부과합니다. 따라서 MSE는 큰 오차를 가진 모델을 더 강하게 조정하려는 경우에 유용하고, MAE는 더 균형 잡힌 오차를 가지도록 조정할 때 유용합니다. 이러한 특징에 따라 특정 문제에 더 적합한 손실 함수를 선택할 수 있습니다."
      ],
      "metadata": {
        "id": "1Caqa-6g0p8F"
      }
    },
    {
      "cell_type": "markdown",
      "metadata": {
        "id": "6XaadncjPndt"
      },
      "source": [
        "1.3) 위에서 학습한 모델의 예측값에 대해 특정 샘플의 입력값에 대한 손실 함수의 편미분을 계산하는 코드를 완성하시오.(5점)"
      ]
    },
    {
      "cell_type": "code",
      "execution_count": 31,
      "metadata": {
        "colab": {
          "base_uri": "https://localhost:8080/"
        },
        "id": "28c5btWxPndu",
        "outputId": "771497c3-16cb-47ac-c273-a41652320339"
      },
      "outputs": [
        {
          "output_type": "stream",
          "name": "stdout",
          "text": [
            "Numerical derivative of MSE at x_0: 24519.51786\n"
          ]
        }
      ],
      "source": [
        "# 함수 정의\n",
        "def mse_loss(y_true, y_pred):\n",
        "    return np.mean((y_true - y_pred) ** 2)\n",
        "\n",
        "# 수치미분 함수 정의\n",
        "def numerical_derivative(f, x, h=0.01):\n",
        "    return (f(x + h) - f(x - h)) / (2 * h)\n",
        "\n",
        "# 특정 입력값 x_0 설정\n",
        "x_0 = X[0][0]\n",
        "\n",
        "# MSE 손실 함수에 대한 편미분 계산\n",
        "def mse_loss_at_x0(x):\n",
        "    X_new = X.copy()\n",
        "    X_new[0, 0] = x\n",
        "    y_pred_new = model.predict(X_new)\n",
        "    ### 오류 해결을 위한 코드 추가 - Ensure y_pred_new and y are NumPy arrays for compatibility and of the same length\n",
        "    y_pred_new = y_pred_new[:len(y)].reshape(-1)  # Flatten y_pred_new and truncate to match y's length\n",
        "    y_numpy = y.detach().numpy()  # Convert PyTorch tensor to NumPy array\n",
        "    return mse_loss(y_numpy, y_pred_new)  # Use NumPy arrays for mse_loss\n",
        "\n",
        "\n",
        "# 중심차분법을 사용한 편미분 계산\n",
        "derivative_at_x0 = numerical_derivative(mse_loss_at_x0, x_0)\n",
        "print(f\"Numerical derivative of MSE at x_0: {derivative_at_x0:.5f}\")"
      ]
    },
    {
      "cell_type": "markdown",
      "metadata": {
        "id": "nfOUGbUcO4Fo"
      },
      "source": [
        "1.4) 수치미분을 사용하여 모델 파라미터를 업데이트하시오. (5점)"
      ]
    },
    {
      "cell_type": "code",
      "source": [
        "import numpy as np\n",
        "\n",
        "# 모델 초기화\n",
        "class SimpleLinearRegression:\n",
        "    def __init__(self):\n",
        "        self.w = 0\n",
        "        self.b = 0\n",
        "\n",
        "    def predict(self, X):\n",
        "        return self.w * X + self.b\n",
        "\n",
        "    def update_params(self, w_grad, b_grad, learning_rate=0.01):\n",
        "        self.w -= learning_rate * w_grad\n",
        "        self.b -= learning_rate * b_grad\n",
        "\n",
        "# 모델 인스턴스 생성\n",
        "simple_model = SimpleLinearRegression()\n",
        "\n",
        "# 손실 함수 정의\n",
        "def mse_loss(y_true, y_pred):\n",
        "    return np.mean((y_true - y_pred) ** 2)\n",
        "\n",
        "# 손실 함수에 대한 파라미터의 편미분 계산 함수 정의\n",
        "def mse_loss_wrt_params(w, b):\n",
        "    simple_model.w = w\n",
        "    simple_model.b = b\n",
        "    y_pred = simple_model.predict(X)\n",
        "    return mse_loss(y, y_pred)\n",
        "\n",
        "# 수치미분 함수 정의\n",
        "def numerical_derivative(f, x, h=0.01):\n",
        "    return (f(x + h) - f(x - h)) / (2 * h)\n",
        "\n",
        "# 특정 입력값 X 설정\n",
        "diabetes = load_diabetes()\n",
        "X = diabetes.data[:, np.newaxis, 0]  # 'age' 특성 선택\n",
        "y = diabetes.target\n",
        "\n",
        "# 수치미분을 사용하여 그래디언트 계산\n",
        "w_grad = numerical_derivative(lambda w: mse_loss_wrt_params(w, simple_model.b), simple_model.w)\n",
        "b_grad = numerical_derivative(lambda b: mse_loss_wrt_params(simple_model.w, b), simple_model.b)\n",
        "\n",
        "# 파라미터 업데이트\n",
        "simple_model.update_params(w_grad, b_grad)\n",
        "\n",
        "# 업데이트된 파라미터 출력\n",
        "print(f\"Updated w: {simple_model.w:.5f}\")\n",
        "print(f\"Updated b: {simple_model.b:.5f}\")\n"
      ],
      "metadata": {
        "colab": {
          "base_uri": "https://localhost:8080/"
        },
        "id": "1-p7ltet3svO",
        "outputId": "a9e8fb9e-631f-4a26-feb4-b455df03c942"
      },
      "execution_count": 32,
      "outputs": [
        {
          "output_type": "stream",
          "name": "stdout",
          "text": [
            "Updated w: -0.01000\n",
            "Updated b: 3.03267\n"
          ]
        }
      ]
    },
    {
      "cell_type": "markdown",
      "metadata": {
        "id": "coms8onGd_H0"
      },
      "source": [
        "1.5) 위의 코드를 확장하여 여러 번의 파라미터 업데이트를 수행하는 코드를 완성하시오.(5점)"
      ]
    },
    {
      "cell_type": "code",
      "execution_count": 33,
      "metadata": {
        "colab": {
          "base_uri": "https://localhost:8080/"
        },
        "id": "IvEdR4G7ebfn",
        "outputId": "5d22d6f6-68c9-4995-f738-5f0feed018ee",
        "scrolled": true
      },
      "outputs": [
        {
          "output_type": "stream",
          "name": "stdout",
          "text": [
            "Iteration 0: Loss = 27283.51056\n",
            "Iteration 10: Loss = 20207.58513\n",
            "Iteration 20: Loss = 15479.65930\n",
            "Iteration 30: Loss = 12320.00508\n",
            "Iteration 40: Loss = 10207.93664\n",
            "Iteration 50: Loss = 8795.73107\n",
            "Iteration 60: Loss = 7851.15686\n",
            "Iteration 70: Loss = 7219.10172\n",
            "Iteration 80: Loss = 6795.95206\n",
            "Iteration 90: Loss = 6512.48610\n",
            "Final Loss: 6338.22516\n",
            "Final w: -1.00772\n",
            "Final b: 131.92611\n"
          ]
        }
      ],
      "source": [
        "# 여러 번의 파라미터 업데이트\n",
        "num_iterations = 100\n",
        "learning_rate = 0.01\n",
        "\n",
        "for i in range(num_iterations):\n",
        "    w_grad = numerical_derivative(lambda w: mse_loss_wrt_params(w, simple_model.b), simple_model.w)\n",
        "    b_grad = numerical_derivative(lambda b: mse_loss_wrt_params(simple_model.w, b), simple_model.b)\n",
        "    simple_model.update_params(w_grad, b_grad, learning_rate=learning_rate)\n",
        "    if i % 10 == 0:\n",
        "        current_loss = mse_loss(y, simple_model.predict(X))\n",
        "        print(f\"Iteration {i}: Loss = {current_loss:.5f}\")\n",
        "\n",
        "# 최종 파라미터와 손실 함수 값 출력\n",
        "final_loss = mse_loss(y, simple_model.predict(X))\n",
        "print(f\"Final Loss: {final_loss:.5f}\")\n",
        "print(f\"Final w: {simple_model.w:.5f}\")\n",
        "print(f\"Final b: {simple_model.b:.5f}\")"
      ]
    },
    {
      "cell_type": "markdown",
      "metadata": {
        "id": "3uuZt7GEM7an"
      },
      "source": [
        "### 2. 기울기 (경사하강법)"
      ]
    },
    {
      "cell_type": "markdown",
      "metadata": {
        "id": "vbubF_2hM7ao"
      },
      "source": [
        "2-1) 경사 하강법이란 무엇인가요? 경사 하강법이 신경망 학습에 어떻게 사용되는지 간단히 설명하세요. (4점)"
      ]
    },
    {
      "cell_type": "markdown",
      "metadata": {
        "id": "QNpYY1NzM7ao"
      },
      "source": [
        "답: 경사 하강법(Gradient Descent)은 최적화 알고리즘 중 하나로, 함수의 최소값을 찾기 위해 사용됩니다. 주로 기계 학습과 신경망 학습에서 비용 함수(손실 함수)를 최소화하는 데 사용됩니다. 경사 하강법의 기본 아이디어는 함수의 기울기(미분값)를 이용하여 현재 위치에서 함수 값이 가장 빠르게 감소하는 방향으로 이동하는 것입니다.\n",
        "\n",
        "신경망 학습에서 경사 하강법은:\n",
        "\n",
        "1.   손실 함수 정의: 신경망의 출력과 실제 값 사이의 오차를 측정하기 위해 손실 함수를 정의합니다. 일반적인 손실 함수로는 평균 제곱 오차(MSE)와 교차 엔트로피 손실이 있습니다.\n",
        "\n",
        "2.   순전파(Forward Propagation): 입력 데이터를 신경망에 전달하여 예측값을 계산합니다.\n",
        "\n",
        "3.   손실 계산: 예측값과 실제 값 간의 오차를 계산하여 손실 값을 구합니다.\n",
        "\n",
        "4.   역전파(Backward Propagation): 손실 값을 줄이기 위해 각 매개변수(가중치와 바이어스)에 대한 손실 함수의 기울기를 계산합니다. 이를 위해 체인 룰(chain rule)을 사용하여 각 층의 기울기를 순차적으로 계산합니다.\n",
        "\n",
        "5.   매개변수 업데이트: 경사 하강법을 사용하여 신경망의 매개변수를 업데이트합니다. 기울기의 반대 방향으로 매개변수를 조정하여 손실 값을 줄입니다.\n",
        "\n",
        "6.   반복: 이 과정을 여러 번 반복하여 신경망이 최적의 매개변수를 학습할 수 있도록 합니다.\n",
        "\n",
        "이 과정을 통해 신경망은 주어진 데이터에 대해 점점 더 정확한 예측을 할 수 있게 됩니다. 경사 하강법은 신경망 학습의 핵심 알고리즘으로, 매개변수를 지속적으로 조정하여 모델의 성능을 향상시킵니다."
      ]
    },
    {
      "cell_type": "markdown",
      "metadata": {
        "id": "sD4WRcQPM7ap"
      },
      "source": [
        "2-2) 빈칸을 채워 평균 제곱 오차(MSE)를 비용 함수로 사용하는 배치 경사 하강법을 파이썬 코드로 구현하세요. (5점)"
      ]
    },
    {
      "cell_type": "code",
      "execution_count": 34,
      "metadata": {
        "id": "9Q-NjW0jM7ap"
      },
      "outputs": [],
      "source": [
        "# 코드를 그대로 실행하세요\n",
        "\n",
        "import numpy as np\n",
        "\n",
        "# 데이터셋 생성\n",
        "np.random.seed(0)\n",
        "X = 2 * np.random.rand(100, 1)\n",
        "y = 4 + 3 * X + np.random.randn(100, 1)"
      ]
    },
    {
      "cell_type": "code",
      "source": [
        "# 배치 경사 하강법 함수 정의\n",
        "def compute_cost(X, y, theta):\n",
        "    m = len(y)\n",
        "    predictions = X.dot(theta)\n",
        "    cost = (1/(2*m)) * np.sum(np.square(predictions - y))\n",
        "    return cost\n",
        "\n",
        "def batch_gradient_descent(X, y, theta, learning_rate, iterations):\n",
        "    m = len(y)\n",
        "    cost_history = np.zeros(iterations)\n",
        "\n",
        "    for i in range(iterations):\n",
        "        predictions = X.dot(theta)\n",
        "        theta = theta - (1/m) * learning_rate * (X.T.dot((predictions - y)))\n",
        "        cost_history[i] = compute_cost(X, y, theta)\n",
        "\n",
        "    return theta, cost_history\n",
        "\n",
        "# 데이터 준비 (바이어스 항 추가)\n",
        "X_b = np.c_[np.ones((len(X), 1)), X]\n",
        "theta = np.random.randn(2, 1)\n",
        "learning_rate = 0.01\n",
        "iterations = 1000\n",
        "\n",
        "# 배치 경사 하강법 실행\n",
        "theta, cost_history = batch_gradient_descent(X_b, y, theta, learning_rate, iterations)\n",
        "\n",
        "print(f'최종 파라미터: theta0 = {theta[0][0]}, theta1 = {theta[1][0]}')"
      ],
      "metadata": {
        "colab": {
          "base_uri": "https://localhost:8080/"
        },
        "id": "ugMI8HJS4iBU",
        "outputId": "b77488e7-4a64-43d8-d9e1-0dde0cc267fd"
      },
      "execution_count": 35,
      "outputs": [
        {
          "output_type": "stream",
          "name": "stdout",
          "text": [
            "최종 파라미터: theta0 = 4.14146131326896, theta1 = 3.040065929195248\n"
          ]
        }
      ]
    },
    {
      "cell_type": "markdown",
      "metadata": {
        "id": "0RpQ2RVRM7ar"
      },
      "source": [
        "2-3) load_diabetes 데이터셋을 사용하여 확률적 경사 하강법을 구현하세요. 각 에포크(epoch)마다 비용 함수 값을 계산하고 이를 시각화하세요. (5점)"
      ]
    },
    {
      "cell_type": "code",
      "execution_count": 36,
      "metadata": {
        "id": "aouX1hHCM7as"
      },
      "outputs": [],
      "source": [
        "# 코드를 그대로 실행하세요\n",
        "\n",
        "from sklearn.datasets import load_diabetes\n",
        "import numpy as np\n",
        "import matplotlib.pyplot as plt\n",
        "\n",
        "# 데이터셋 불러오기\n",
        "diabetes = load_diabetes()\n",
        "X = diabetes.data\n",
        "y = diabetes.target.reshape(-1, 1)\n",
        "\n",
        "# 데이터 표준화\n",
        "X = (X - np.mean(X, axis=0)) / np.std(X, axis=0)\n",
        "\n",
        "# 데이터 준비 (바이어스 항 추가)\n",
        "X_b = np.c_[np.ones((X.shape[0], 1)), X]\n",
        "\n",
        "# 초기화\n",
        "theta = np.random.randn(X_b.shape[1], 1)\n",
        "learning_rate = 0.01\n",
        "iterations = 1000"
      ]
    },
    {
      "cell_type": "code",
      "source": [
        "# 비용 함수 정의\n",
        "def compute_cost(X, y, theta):\n",
        "    m = len(y)\n",
        "    predictions = X.dot(theta)\n",
        "    cost = (1/(2*m)) * np.sum(np.square(predictions - y))\n",
        "    return cost\n",
        "\n",
        "# 확률적 경사 하강법 함수 정의\n",
        "def stochastic_gradient_descent(X, y, theta, learning_rate, iterations):\n",
        "    m = len(y)\n",
        "    cost_history = np.zeros(iterations)\n",
        "\n",
        "    for i in range(iterations):\n",
        "        for j in range(m):\n",
        "            rand_index = np.random.randint(m)\n",
        "            X_i = X[rand_index:rand_index+1]\n",
        "            y_i = y[rand_index:rand_index+1]\n",
        "            gradients = 2 * X_i.T.dot(X_i.dot(theta) - y_i)\n",
        "            theta = theta - learning_rate * gradients\n",
        "        cost_history[i] = compute_cost(X, y, theta)\n",
        "\n",
        "    return theta, cost_history\n",
        "\n",
        "# 확률적 경사 하강법 실행\n",
        "theta, cost_history = stochastic_gradient_descent(X_b, y, theta, learning_rate, iterations)\n",
        "\n",
        "# 비용 함수 시각화\n",
        "plt.plot(cost_history)\n",
        "plt.xlabel('Iterations')\n",
        "plt.ylabel('Cost')\n",
        "plt.title('Cost over Iterations')\n",
        "plt.show()"
      ],
      "metadata": {
        "colab": {
          "base_uri": "https://localhost:8080/",
          "height": 472
        },
        "id": "31SxjBnc4rrJ",
        "outputId": "9e7ccbe4-ed0b-4a85-ad6c-d0baf9afc4c0"
      },
      "execution_count": 37,
      "outputs": [
        {
          "output_type": "display_data",
          "data": {
            "text/plain": [
              "<Figure size 640x480 with 1 Axes>"
            ],
            "image/png": "[encoded data removed]"
          },
          "metadata": {}
        }
      ]
    },
    {
      "cell_type": "markdown",
      "metadata": {
        "id": "TmQaCjDKM7au"
      },
      "source": [
        "2-4) load_wine 데이터셋의 첫 번째 두 특징을 사용하여 미니 배치 경사 하강법을 구현하세요. 각 에포크(epoch)마다 비용 함수 값을 계산하고 이를 시각화하세요. (6점)"
      ]
    },
    {
      "cell_type": "code",
      "execution_count": 39,
      "metadata": {
        "id": "3H4TB8f4M7au"
      },
      "outputs": [],
      "source": [
        "# 여기부터 문제입니다\n",
        "\n",
        "from sklearn.datasets import load_wine\n",
        "import numpy as np\n",
        "import matplotlib.pyplot as plt\n",
        "\n",
        "# 데이터셋 불러오기\n",
        "wine = load_wine()\n",
        "X = wine.data[:, :2]  # 첫 번째 두 특징 선택\n",
        "y = (wine.target == 0).astype(int).reshape(-1, 1)\n"
      ]
    },
    {
      "cell_type": "code",
      "execution_count": 40,
      "metadata": {
        "id": "9-h0KCkvM7av",
        "outputId": "8bafbbb9-25b7-4df2-ce86-3db933f8243b",
        "colab": {
          "base_uri": "https://localhost:8080/",
          "height": 507
        }
      },
      "outputs": [
        {
          "output_type": "stream",
          "name": "stderr",
          "text": [
            "<ipython-input-40-59e66d4f944a>:29: DeprecationWarning: Conversion of an array with ndim > 0 to a scalar is deprecated, and will error in future. Ensure you extract a single element from your array before performing this operation. (Deprecated NumPy 1.25.)\n",
            "  cost_history[i] = compute_cost(X, y, theta)\n"
          ]
        },
        {
          "output_type": "display_data",
          "data": {
            "text/plain": [
              "<Figure size 640x480 with 1 Axes>"
            ],
            "image/png": "[encoded data removed]"
          },
          "metadata": {}
        }
      ],
      "source": [
        "# 시그모이드 함수 정의\n",
        "def sigmoid(z):\n",
        "    return 1 / (1 + np.exp(-z))\n",
        "\n",
        "# 비용 함수 정의\n",
        "def compute_cost(X, y, theta):\n",
        "    m = len(y)\n",
        "    h = sigmoid(X.dot(theta))\n",
        "    epsilon = 1e-5\n",
        "    cost = -(1/m) * (y.T.dot(np.log(h + epsilon)) + (1 - y).T.dot(np.log(1 - h + epsilon)))\n",
        "    return cost\n",
        "\n",
        "# 미니 배치 경사 하강법 함수 정의\n",
        "def mini_batch_gradient_descent(X, y, theta, learning_rate, iterations, batch_size):\n",
        "    m = len(y)\n",
        "    cost_history = np.zeros(iterations)\n",
        "\n",
        "    for i in range(iterations):\n",
        "        indices = np.random.permutation(m)\n",
        "        X_shuffled = X[indices]\n",
        "        y_shuffled = y[indices]\n",
        "\n",
        "        for j in range(0, m, batch_size):\n",
        "            X_i = X_shuffled[j:j+batch_size]\n",
        "            y_i = y_shuffled[j:j+batch_size]\n",
        "            gradients = (1/batch_size) * X_i.T.dot(sigmoid(X_i.dot(theta)) - y_i)\n",
        "            theta -= learning_rate * gradients\n",
        "\n",
        "        cost_history[i] = compute_cost(X, y, theta)\n",
        "\n",
        "    return theta, cost_history\n",
        "\n",
        "# 데이터 준비 (바이어스 항 추가)\n",
        "X_b = np.c_[np.ones((len(X), 1)), X]\n",
        "\n",
        "# 초기화\n",
        "theta = np.zeros((X_b.shape[1], 1))\n",
        "learning_rate = 0.01\n",
        "iterations = 1000\n",
        "batch_size = 20\n",
        "\n",
        "# 미니 배치 경사 하강법 실행\n",
        "theta, cost_history = mini_batch_gradient_descent(X_b, y, theta, learning_rate, iterations, batch_size)\n",
        "\n",
        "# 비용 함수 시각화\n",
        "plt.plot(cost_history)\n",
        "plt.xlabel('Iterations')\n",
        "plt.ylabel('Cost')\n",
        "plt.title('Cost over Iterations')\n",
        "plt.show()"
      ]
    },
    {
      "cell_type": "markdown",
      "metadata": {
        "id": "ZDW_0WHaM7aw"
      },
      "source": [
        "2-5) 4번 문제에서 미니 배치 경사 하강법으로 학습한 모델을 사용하여 load_wine 데이터셋의 첫 번째 두 특징에 대한 예측을 수행하고, 모델의 정확도를 계산하세요. (5점)"
      ]
    },
    {
      "cell_type": "code",
      "execution_count": 41,
      "metadata": {
        "id": "oM133PjkM7aw",
        "outputId": "cca3d658-f156-4470-88c8-aee34e28873b",
        "colab": {
          "base_uri": "https://localhost:8080/"
        }
      },
      "outputs": [
        {
          "output_type": "stream",
          "name": "stdout",
          "text": [
            "모델의 정확도: 71.91%\n"
          ]
        }
      ],
      "source": [
        "from sklearn.metrics import accuracy_score\n",
        "\n",
        "# 예측 함수 정의\n",
        "def predict(X, theta):\n",
        "    return sigmoid(X.dot(theta)) >= 0.5\n",
        "\n",
        "# 예측 및 정확도 계산\n",
        "y_pred = predict(X_b, theta)\n",
        "accuracy = accuracy_score(y, y_pred)\n",
        "print(f'모델의 정확도: {accuracy * 100:.2f}%')"
      ]
    }
  ]
}