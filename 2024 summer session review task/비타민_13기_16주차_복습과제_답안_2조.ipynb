{
 "cells": [
  {
   "cell_type": "markdown",
   "id": "a8e9c1fe",
   "metadata": {},
   "source": [
    "## 1. 합성곱신경망 (30점)"
   ]
  },
  {
   "cell_type": "markdown",
   "id": "ad88b004",
   "metadata": {},
   "source": [
    "#### 1. 완전연결신경망과 CNN의 차이에 대해 작성해주세요. (4점)"
   ]
  },
  {
   "cell_type": "markdown",
   "id": "8435b1f4",
   "metadata": {},
   "source": [
    "답: 전자는 affine계층 - 활성화함수계층, 출력층은 softmax계층으로 구성된 반면, CNN은 합성곱계층 - 활성화함수계층 - 풀링계층 의 흐름이 추가됐다."
   ]
  },
  {
   "cell_type": "markdown",
   "id": "17dacab6",
   "metadata": {},
   "source": [
    "#### 2. 완전연결신경망으로 이미지를 학습할 때의 문제점에 대해 작성해주세요. (4점)"
   ]
  },
  {
   "cell_type": "markdown",
   "id": "a2960386",
   "metadata": {},
   "source": [
    "답: 데이터의 형상을 무시하고, 공간적 정보를 유실한다."
   ]
  },
  {
   "cell_type": "markdown",
   "id": "9ca72336",
   "metadata": {},
   "source": [
    "#### 3. 67 * 67 * 3 (가로 * 세로 * 채널) 의 크기를 갖는 이미지에 1개의 5 * 5 * 3의 필터를 적용하여 얻은 피처맵의 크기를 구해주세요. (스트라이드 : 2, 패딩 : 0) (4점)"
   ]
  },
  {
   "cell_type": "markdown",
   "id": "85d81a7b",
   "metadata": {},
   "source": [
    "답 : 32 * 32 * 1"
   ]
  },
  {
   "cell_type": "markdown",
   "id": "1bda8928",
   "metadata": {},
   "source": [
    "#### 4. 67 * 67 * 3 의 크기를 갖는 이미지에 16개의 5 * 5 * 3의 필터를 적용하여 얻은 피처맵의 크기를 구해주세요. (스트라이드 : 2, 패딩 : 2) (4점)"
   ]
  },
  {
   "cell_type": "markdown",
   "id": "7bbff028",
   "metadata": {},
   "source": [
    "답 : 34 * 34 * 16"
   ]
  },
  {
   "cell_type": "markdown",
   "id": "98e42755",
   "metadata": {},
   "source": [
    "#### 5. 124 * 124 * 3 의 크기를 갖는 이미지에 32개의 7 * 7 * 3의 필터를 적용하여 얻은 피처맵의 크기를 구해주세요. (스트라이드 : 3, 패딩 : 3) (3점)"
   ]
  },
  {
   "cell_type": "markdown",
   "id": "7d683741",
   "metadata": {},
   "source": [
    "답 : 42 * 42 * 32"
   ]
  },
  {
   "cell_type": "markdown",
   "id": "f8d94acb",
   "metadata": {},
   "source": [
    "#### 6. 5번의 결과로 나온 피처맵을 3 * 3 최대 풀링 계층에 통과시켜 얻는 피처맵의 크기를 구해주세요. (3점)"
   ]
  },
  {
   "cell_type": "markdown",
   "id": "0befd512",
   "metadata": {},
   "source": [
    "답 : 14 * 14 * 32"
   ]
  },
  {
   "cell_type": "markdown",
   "id": "33d72d90",
   "metadata": {},
   "source": [
    "#### 7. 풀링 계층의 특징을 맞는 것을 모두 골라주세요. (4점)\n",
    "\n",
    ">1. 학습해야 할 매개변수가 없다\n",
    ">2. 채널 수가 변하지 않는다\n",
    ">3. 입력의 변화에 영향을 적게 받는다"
   ]
  },
  {
   "cell_type": "markdown",
   "id": "6637a447",
   "metadata": {},
   "source": [
    "답 : 1, 2, 3"
   ]
  },
  {
   "cell_type": "markdown",
   "id": "61197eaa",
   "metadata": {},
   "source": [
    "#### 8. 반드시 지켜야 하는 합성곱 계층의 특징을 골라주세요. (4점)\n",
    "\n",
    ">1. 입력 피처맵의 채널 수 = 필터의 채널 수 = 출력 피처맵의 채널 수\n",
    ">2. 입력 피처맵의 채널 수 = 출력 피처맵의 채널 수\n",
    ">3. 입력 피처맵의 채널 수 = 필터의 채널 수\n",
    ">4. 필터의 채널 수 = 출력 피처맵의 채널 수"
   ]
  },
  {
   "cell_type": "markdown",
   "id": "49cb9220",
   "metadata": {},
   "source": [
    "답 : 3"
   ]
  },
  {
   "cell_type": "markdown",
   "id": "15589604",
   "metadata": {},
   "source": [
    "## 2. 합성곱신경망 계층 구현 (20점)"
   ]
  },
  {
   "cell_type": "markdown",
   "id": "8cfb5720",
   "metadata": {},
   "source": [
    "#### 1. 아래 합성곱계층 구현 코드의 빈칸을 채워주세요. (10점)"
   ]
  },
  {
   "cell_type": "code",
   "execution_count": 1,
   "id": "c40feb57",
   "metadata": {},
   "outputs": [
    {
     "name": "stdout",
     "output_type": "stream",
     "text": [
      "입력 행렬:\n",
      "[[  1   9  -1   4  -4]\n",
      " [ -2   7   7   0   8]\n",
      " [  3   2  -5  -2  -9]\n",
      " [ -5  -5  -3 -10  -1]\n",
      " [ -4   4  -9  -9  -4]]\n",
      "\n",
      "필터 행렬:\n",
      "[[ 2 -4 -4]\n",
      " [-8 -3  5]\n",
      " [ 0  8 -2]]\n",
      "\n",
      "Convolution 결과:\n",
      "[[  26. -107.  -16.]\n",
      " [-149.  -29.  -95.]\n",
      " [ 108.  -23.   19.]]\n"
     ]
    }
   ],
   "source": [
    "import numpy as np\n",
    "\n",
    "def convolution(input_matrix, filter_matrix):\n",
    "    # 입력 행렬과 필터 행렬의 크기를 확인\n",
    "    input_rows, input_cols = input_matrix.shape\n",
    "    filter_rows, filter_cols = filter_matrix.shape\n",
    "\n",
    "    # 필터가 입력 행렬보다 작아야 연산 가능\n",
    "    if filter_rows > input_rows or filter_cols > input_cols:\n",
    "        raise ValueError()\n",
    "\n",
    "    # convolution 결과를 저장할 빈 행렬 생성 stride와 padding은 없다고 가정\n",
    "    result_matrix = np.zeros((input_rows-filter_rows+1, input_cols-filter_cols+1))\n",
    "\n",
    "    # convolution 연산 수행\n",
    "    for i in range(result_matrix.shape[0]):\n",
    "        for j in range(result_matrix.shape[1]):\n",
    "            result_matrix[i, j] = np.sum(input_matrix[i:i + filter_rows, j:j + filter_cols] * filter_matrix)\n",
    "\n",
    "    return result_matrix\n",
    "\n",
    "# 예시를 위해 간단한 행렬 생성\n",
    "input_matrix = np.random.randint(-10, 10, size=(5, 5)) \n",
    "\n",
    "filter_matrix = np.random.randint(-10, 10, size=(3, 3)) \n",
    "\n",
    "# convolution 연산 수행\n",
    "result = convolution(input_matrix, filter_matrix)\n",
    "\n",
    "print(\"입력 행렬:\")\n",
    "print(input_matrix)\n",
    "\n",
    "print(\"\\n필터 행렬:\")\n",
    "print(filter_matrix)\n",
    "\n",
    "print(\"\\nConvolution 결과:\")\n",
    "print(result)\n"
   ]
  },
  {
   "cell_type": "markdown",
   "id": "d8198f49",
   "metadata": {},
   "source": [
    "#### 2. 아래 풀링계층 구현 코드의 빈칸을 채워주세요. (10점)"
   ]
  },
  {
   "cell_type": "code",
   "execution_count": 2,
   "id": "4ef348a2",
   "metadata": {},
   "outputs": [],
   "source": [
    "import torch\n",
    "import torch.nn as nn\n",
    "from torch.utils.data import DataLoader\n",
    "\n",
    "import torchvision\n",
    "from torchvision.datasets import MNIST\n",
    "import torchvision.transforms as transforms\n",
    "import numpy as np\n",
    "\n",
    "import matplotlib.pyplot as plt"
   ]
  },
  {
   "cell_type": "code",
   "execution_count": 3,
   "id": "d03b4923",
   "metadata": {},
   "outputs": [],
   "source": [
    "# 평균=0.5, 표준편차=1.0이 되도록 데이터의 분포(normalize)를 조정\n",
    "mnist_transform = transforms.Compose([\n",
    "    transforms.ToTensor(),\n",
    "    transforms.Normalize((0.5,), (1.0,))\n",
    "])\n",
    "\n",
    "\n",
    "download_root = './'    # 내려받을 경로 지정!!!!!!!!!!!!!!!!!!!!!!!!!!!!!!!!!!!!!!!!!!\n",
    "\n",
    "mnist_train = MNIST(root = download_root, train = True,\n",
    "                      transform=mnist_transform, download=True)"
   ]
  },
  {
   "cell_type": "code",
   "execution_count": 4,
   "id": "e0e49d19",
   "metadata": {},
   "outputs": [
    {
     "name": "stdout",
     "output_type": "stream",
     "text": [
      "torch.Size([1, 28, 28]) 5\n"
     ]
    }
   ],
   "source": [
    "#실행해주세요\n",
    "\n",
    "# dataset[idx]로 첫번째 이미지(텐서)와 라벨 출력\n",
    "image, label = mnist_train[0]\n",
    "print(image.size(), label)"
   ]
  },
  {
   "cell_type": "code",
   "execution_count": 5,
   "id": "d0e28d8a",
   "metadata": {},
   "outputs": [
    {
     "data": {
      "image/png": "[encoded data removed]",
      "text/plain": [
       "<Figure size 640x480 with 1 Axes>"
      ]
     },
     "metadata": {},
     "output_type": "display_data"
    }
   ],
   "source": [
    "#실행해주세요\n",
    "\n",
    "# 0번째 이미지 시각화 (원본)\n",
    "plt.figure()\n",
    "plt.title(\"MNIST LABEL {}\".format(label))\n",
    "plt.imshow(image[0], cmap=\"gray\")\n",
    "plt.show()"
   ]
  },
  {
   "cell_type": "code",
   "execution_count": 6,
   "id": "fb4c1214",
   "metadata": {},
   "outputs": [
    {
     "name": "stdout",
     "output_type": "stream",
     "text": [
      "torch.Size([1, 14, 14])\n",
      "torch.Size([1, 14, 14])\n",
      "torch.Size([1, 9, 9])\n",
      "torch.Size([1, 9, 9])\n"
     ]
    }
   ],
   "source": [
    "# output_1 : max 풀링, 윈도우 크기 = 2\n",
    "# output_2 : avg 풀링, 윈도우 크기 = 2\n",
    "# output_3 : max 풀링, 윈도우 크기 = 3\n",
    "# output_4 : avg 풀링, 윈도우 크기 = 3\n",
    "\n",
    "max_pool_2 = nn.MaxPool2d(2)\n",
    "output_1 = max_pool_2(image)\n",
    "print(output_1.size())\n",
    "\n",
    "avg_pool_2 = nn.AvgPool2d(2)\n",
    "output_2 = avg_pool_2(image)\n",
    "print(output_2.size())\n",
    "\n",
    "max_pool_3 = nn.MaxPool2d(3)\n",
    "output_3 = max_pool_3(image)\n",
    "print(output_3.size())\n",
    "\n",
    "avg_pool_3 = nn.AvgPool2d(3)\n",
    "output_4 = avg_pool_3(image)\n",
    "print(output_4.size())"
   ]
  },
  {
   "cell_type": "code",
   "execution_count": 7,
   "id": "40ddf350",
   "metadata": {},
   "outputs": [
    {
     "data": {
      "image/png": "[encoded data removed]",
      "text/plain": [
       "<Figure size 600x600 with 4 Axes>"
      ]
     },
     "metadata": {},
     "output_type": "display_data"
    }
   ],
   "source": [
    "#실행해주세요\n",
    "\n",
    "fig, axs = plt.subplots(2, 2, figsize=(6, 6)) # figsize는 적절히 조정 가능\n",
    "\n",
    "# 첫 번째 이미지\n",
    "axs[0, 0].imshow(output_1[0], cmap='gray')\n",
    "axs[0, 0].title.set_text('MAX Pool 2')\n",
    "\n",
    "# 두 번째 이미지\n",
    "axs[0, 1].imshow(output_2[0], cmap='gray')\n",
    "axs[0, 1].title.set_text('AVG Pool 2')\n",
    "\n",
    "# 세 번째 이미지\n",
    "axs[1, 0].imshow(output_3[0], cmap='gray')\n",
    "axs[1, 0].title.set_text('MAX Pool 3')\n",
    "\n",
    "# 네 번째 이미지\n",
    "axs[1, 1].imshow(output_4[0], cmap='gray')\n",
    "axs[1, 1].title.set_text('AVG Pool 3')\n",
    "\n",
    "# 전체 그림을 보여줍니다.\n",
    "plt.show()"
   ]
  }
 ],
 "metadata": {
  "kernelspec": {
   "display_name": "Python 3 (ipykernel)",
   "language": "python",
   "name": "python3"
  },
  "language_info": {
   "codemirror_mode": {
    "name": "ipython",
    "version": 3
   },
   "file_extension": ".py",
   "mimetype": "text/x-python",
   "name": "python",
   "nbconvert_exporter": "python",
   "pygments_lexer": "ipython3",
   "version": "3.11.5"
  }
 },
 "nbformat": 4,
 "nbformat_minor": 5
}
